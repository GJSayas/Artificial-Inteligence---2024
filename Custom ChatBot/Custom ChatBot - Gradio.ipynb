{
 "cells": [
  {
   "cell_type": "markdown",
   "id": "ce4773d6",
   "metadata": {},
   "source": [
    "# CUSTOM CHATTY-BOT, Gradio Interface\n",
    "## T6 - Artificial Inteligence\n",
    "\n",
    "### S.Chung, G. Sayas\n",
    "###### \"I'm still salty about the struggle behind the custom bot\"  ~G.Sayas"
   ]
  },
  {
   "cell_type": "code",
   "execution_count": 25,
   "id": "e83ef32b",
   "metadata": {},
   "outputs": [
    {
     "name": "stdout",
     "output_type": "stream",
     "text": [
      "Requirement already satisfied: gradio in c:\\users\\asus\\anaconda3\\lib\\site-packages (4.28.3)\n",
      "Requirement already satisfied: aiofiles<24.0,>=22.0 in c:\\users\\asus\\anaconda3\\lib\\site-packages (from gradio) (22.1.0)\n",
      "Requirement already satisfied: altair<6.0,>=4.2.0 in c:\\users\\asus\\anaconda3\\lib\\site-packages (from gradio) (5.3.0)\n",
      "Requirement already satisfied: fastapi in c:\\users\\asus\\anaconda3\\lib\\site-packages (from gradio) (0.110.2)\n",
      "Requirement already satisfied: ffmpy in c:\\users\\asus\\anaconda3\\lib\\site-packages (from gradio) (0.3.2)\n",
      "Requirement already satisfied: gradio-client==0.16.0 in c:\\users\\asus\\anaconda3\\lib\\site-packages (from gradio) (0.16.0)\n",
      "Requirement already satisfied: httpx>=0.24.1 in c:\\users\\asus\\anaconda3\\lib\\site-packages (from gradio) (0.27.0)\n",
      "Requirement already satisfied: huggingface-hub>=0.19.3 in c:\\users\\asus\\anaconda3\\lib\\site-packages (from gradio) (0.22.2)\n",
      "Requirement already satisfied: importlib-resources<7.0,>=1.3 in c:\\users\\asus\\anaconda3\\lib\\site-packages (from gradio) (6.4.0)\n",
      "Requirement already satisfied: jinja2<4.0 in c:\\users\\asus\\anaconda3\\lib\\site-packages (from gradio) (3.1.2)\n",
      "Requirement already satisfied: markupsafe~=2.0 in c:\\users\\asus\\anaconda3\\lib\\site-packages (from gradio) (2.1.1)\n",
      "Requirement already satisfied: matplotlib~=3.0 in c:\\users\\asus\\anaconda3\\lib\\site-packages (from gradio) (3.7.2)\n",
      "Requirement already satisfied: numpy~=1.0 in c:\\users\\asus\\anaconda3\\lib\\site-packages (from gradio) (1.24.3)\n",
      "Requirement already satisfied: orjson~=3.0 in c:\\users\\asus\\anaconda3\\lib\\site-packages (from gradio) (3.10.1)\n",
      "Requirement already satisfied: packaging in c:\\users\\asus\\anaconda3\\lib\\site-packages (from gradio) (23.1)\n",
      "Requirement already satisfied: pandas<3.0,>=1.0 in c:\\users\\asus\\anaconda3\\lib\\site-packages (from gradio) (2.0.3)\n",
      "Requirement already satisfied: pillow<11.0,>=8.0 in c:\\users\\asus\\anaconda3\\lib\\site-packages (from gradio) (10.0.1)\n",
      "Requirement already satisfied: pydantic>=2.0 in c:\\users\\asus\\anaconda3\\lib\\site-packages (from gradio) (2.7.1)\n",
      "Requirement already satisfied: pydub in c:\\users\\asus\\anaconda3\\lib\\site-packages (from gradio) (0.25.1)\n",
      "Requirement already satisfied: python-multipart>=0.0.9 in c:\\users\\asus\\anaconda3\\lib\\site-packages (from gradio) (0.0.9)\n",
      "Requirement already satisfied: pyyaml<7.0,>=5.0 in c:\\users\\asus\\anaconda3\\lib\\site-packages (from gradio) (6.0)\n",
      "Requirement already satisfied: ruff>=0.2.2 in c:\\users\\asus\\anaconda3\\lib\\site-packages (from gradio) (0.4.2)\n",
      "Requirement already satisfied: semantic-version~=2.0 in c:\\users\\asus\\anaconda3\\lib\\site-packages (from gradio) (2.10.0)\n",
      "Requirement already satisfied: tomlkit==0.12.0 in c:\\users\\asus\\anaconda3\\lib\\site-packages (from gradio) (0.12.0)\n",
      "Requirement already satisfied: typer<1.0,>=0.12 in c:\\users\\asus\\anaconda3\\lib\\site-packages (from gradio) (0.12.3)\n",
      "Requirement already satisfied: typing-extensions~=4.0 in c:\\users\\asus\\anaconda3\\lib\\site-packages (from gradio) (4.11.0)\n",
      "Requirement already satisfied: urllib3~=2.0 in c:\\users\\asus\\anaconda3\\lib\\site-packages (from gradio) (2.2.1)\n",
      "Requirement already satisfied: uvicorn>=0.14.0 in c:\\users\\asus\\anaconda3\\lib\\site-packages (from gradio) (0.29.0)\n",
      "Requirement already satisfied: fsspec in c:\\users\\asus\\anaconda3\\lib\\site-packages (from gradio-client==0.16.0->gradio) (2024.3.1)\n",
      "Requirement already satisfied: websockets<12.0,>=10.0 in c:\\users\\asus\\anaconda3\\lib\\site-packages (from gradio-client==0.16.0->gradio) (11.0.3)\n",
      "Requirement already satisfied: jsonschema>=3.0 in c:\\users\\asus\\anaconda3\\lib\\site-packages (from altair<6.0,>=4.2.0->gradio) (4.17.3)\n",
      "Requirement already satisfied: toolz in c:\\users\\asus\\anaconda3\\lib\\site-packages (from altair<6.0,>=4.2.0->gradio) (0.12.0)\n",
      "Requirement already satisfied: anyio in c:\\users\\asus\\anaconda3\\lib\\site-packages (from httpx>=0.24.1->gradio) (3.5.0)\n",
      "Requirement already satisfied: certifi in c:\\users\\asus\\anaconda3\\lib\\site-packages (from httpx>=0.24.1->gradio) (2024.2.2)\n",
      "Requirement already satisfied: httpcore==1.* in c:\\users\\asus\\anaconda3\\lib\\site-packages (from httpx>=0.24.1->gradio) (1.0.5)\n",
      "Requirement already satisfied: idna in c:\\users\\asus\\anaconda3\\lib\\site-packages (from httpx>=0.24.1->gradio) (3.4)\n",
      "Requirement already satisfied: sniffio in c:\\users\\asus\\anaconda3\\lib\\site-packages (from httpx>=0.24.1->gradio) (1.2.0)\n",
      "Requirement already satisfied: h11<0.15,>=0.13 in c:\\users\\asus\\anaconda3\\lib\\site-packages (from httpcore==1.*->httpx>=0.24.1->gradio) (0.14.0)\n",
      "Requirement already satisfied: filelock in c:\\users\\asus\\anaconda3\\lib\\site-packages (from huggingface-hub>=0.19.3->gradio) (3.9.0)\n",
      "Requirement already satisfied: requests in c:\\users\\asus\\anaconda3\\lib\\site-packages (from huggingface-hub>=0.19.3->gradio) (2.31.0)\n",
      "Requirement already satisfied: tqdm>=4.42.1 in c:\\users\\asus\\anaconda3\\lib\\site-packages (from huggingface-hub>=0.19.3->gradio) (4.65.0)\n",
      "Requirement already satisfied: contourpy>=1.0.1 in c:\\users\\asus\\anaconda3\\lib\\site-packages (from matplotlib~=3.0->gradio) (1.0.5)\n",
      "Requirement already satisfied: cycler>=0.10 in c:\\users\\asus\\anaconda3\\lib\\site-packages (from matplotlib~=3.0->gradio) (0.11.0)\n",
      "Requirement already satisfied: fonttools>=4.22.0 in c:\\users\\asus\\anaconda3\\lib\\site-packages (from matplotlib~=3.0->gradio) (4.25.0)\n",
      "Requirement already satisfied: kiwisolver>=1.0.1 in c:\\users\\asus\\anaconda3\\lib\\site-packages (from matplotlib~=3.0->gradio) (1.4.4)\n",
      "Requirement already satisfied: pyparsing<3.1,>=2.3.1 in c:\\users\\asus\\anaconda3\\lib\\site-packages (from matplotlib~=3.0->gradio) (3.0.9)\n",
      "Requirement already satisfied: python-dateutil>=2.7 in c:\\users\\asus\\anaconda3\\lib\\site-packages (from matplotlib~=3.0->gradio) (2.8.2)\n",
      "Requirement already satisfied: pytz>=2020.1 in c:\\users\\asus\\anaconda3\\lib\\site-packages (from pandas<3.0,>=1.0->gradio) (2023.3.post1)\n",
      "Requirement already satisfied: tzdata>=2022.1 in c:\\users\\asus\\anaconda3\\lib\\site-packages (from pandas<3.0,>=1.0->gradio) (2023.3)\n",
      "Requirement already satisfied: annotated-types>=0.4.0 in c:\\users\\asus\\anaconda3\\lib\\site-packages (from pydantic>=2.0->gradio) (0.6.0)\n",
      "Requirement already satisfied: pydantic-core==2.18.2 in c:\\users\\asus\\anaconda3\\lib\\site-packages (from pydantic>=2.0->gradio) (2.18.2)\n",
      "Requirement already satisfied: click>=8.0.0 in c:\\users\\asus\\anaconda3\\lib\\site-packages (from typer<1.0,>=0.12->gradio) (8.0.4)\n",
      "Requirement already satisfied: shellingham>=1.3.0 in c:\\users\\asus\\anaconda3\\lib\\site-packages (from typer<1.0,>=0.12->gradio) (1.5.4)\n",
      "Requirement already satisfied: rich>=10.11.0 in c:\\users\\asus\\anaconda3\\lib\\site-packages (from typer<1.0,>=0.12->gradio) (13.7.1)\n",
      "Requirement already satisfied: starlette<0.38.0,>=0.37.2 in c:\\users\\asus\\anaconda3\\lib\\site-packages (from fastapi->gradio) (0.37.2)\n",
      "Requirement already satisfied: colorama in c:\\users\\asus\\anaconda3\\lib\\site-packages (from click>=8.0.0->typer<1.0,>=0.12->gradio) (0.4.6)\n",
      "Requirement already satisfied: attrs>=17.4.0 in c:\\users\\asus\\anaconda3\\lib\\site-packages (from jsonschema>=3.0->altair<6.0,>=4.2.0->gradio) (22.1.0)\n",
      "Requirement already satisfied: pyrsistent!=0.17.0,!=0.17.1,!=0.17.2,>=0.14.0 in c:\\users\\asus\\anaconda3\\lib\\site-packages (from jsonschema>=3.0->altair<6.0,>=4.2.0->gradio) (0.18.0)\n",
      "Requirement already satisfied: six>=1.5 in c:\\users\\asus\\anaconda3\\lib\\site-packages (from python-dateutil>=2.7->matplotlib~=3.0->gradio) (1.16.0)\n",
      "Requirement already satisfied: markdown-it-py>=2.2.0 in c:\\users\\asus\\anaconda3\\lib\\site-packages (from rich>=10.11.0->typer<1.0,>=0.12->gradio) (2.2.0)\n",
      "Requirement already satisfied: pygments<3.0.0,>=2.13.0 in c:\\users\\asus\\anaconda3\\lib\\site-packages (from rich>=10.11.0->typer<1.0,>=0.12->gradio) (2.15.1)\n",
      "Requirement already satisfied: charset-normalizer<4,>=2 in c:\\users\\asus\\anaconda3\\lib\\site-packages (from requests->huggingface-hub>=0.19.3->gradio) (2.0.4)\n",
      "Requirement already satisfied: mdurl~=0.1 in c:\\users\\asus\\anaconda3\\lib\\site-packages (from markdown-it-py>=2.2.0->rich>=10.11.0->typer<1.0,>=0.12->gradio) (0.1.0)\n"
     ]
    }
   ],
   "source": [
    "!pip install gradio"
   ]
  },
  {
   "cell_type": "code",
   "execution_count": 26,
   "id": "524b92e3",
   "metadata": {},
   "outputs": [],
   "source": [
    "import gradio as gr\n",
    "import openai\n",
    "import pandas as pd\n",
    "import tiktoken\n",
    "import ast\n",
    "from openai.embeddings_utils import get_embedding, distances_from_embeddings"
   ]
  },
  {
   "cell_type": "code",
   "execution_count": 21,
   "id": "a3cb5f7f",
   "metadata": {},
   "outputs": [],
   "source": [
    "openai.api_key = \" \""
   ]
  },
  {
   "cell_type": "code",
   "execution_count": 22,
   "id": "8576cd9a",
   "metadata": {},
   "outputs": [],
   "source": [
    "class EmbeddingChatbot():\n",
    "    def __init__(self, \n",
    "    \tembeddings_path, \n",
    "    \tmodel_embeddings = \"text-embedding-ada-002\",\n",
    "    \tmodel_completion = \"gpt-3.5-turbo-instruct\",\n",
    "    \tmax_prompt_tokens = 1200,\n",
    "    \tmax_answer_tokens = 600):\n",
    "        self.__df = pd.read_csv('embeddings_txt.csv')\n",
    "        self.__df.embeddings = self.__df.embeddings.apply(ast.literal_eval)\n",
    "        self.model_embeddings = model_embeddings\n",
    "        self.model_completion = model_completion\n",
    "        self.max_prompt_tokens = max_prompt_tokens\n",
    "        self.max_answer_tokens = max_answer_tokens \n",
    "    \n",
    "    def get_rows_sorted_by_relevance(self, question, df):\n",
    "        \"\"\"\n",
    "        Function that takes in a question string and a dataframe containing\n",
    "        rows of text and associated embeddings, and returns that dataframe\n",
    "        sorted from least to most relevant for that question\n",
    "        \"\"\"\n",
    "    \n",
    "        # Get embeddings for the question text\n",
    "        question_embeddings = get_embedding(question, engine=self.model_embeddings)\n",
    "    \n",
    "        # Make a copy of the dataframe and add a \"distances\" column containing\n",
    "        # the cosine distances between each row's embeddings and the\n",
    "        # embeddings of the question\n",
    "        df_copy = df.copy()\n",
    "        df_copy[\"distances\"] = distances_from_embeddings(\n",
    "        \tquestion_embeddings,\n",
    "        \tdf_copy[\"embeddings\"].values,\n",
    "        \tdistance_metric=\"cosine\"\n",
    "        \t)\n",
    "    \n",
    "        # Sort the copied dataframe by the distances and return it\n",
    "        # (shorter distance = more relevant so we sort in ascending order)\n",
    "        df_copy.sort_values(\"distances\", ascending=True, inplace=True)\n",
    "        return df_copy\n",
    "\n",
    "\n",
    "    def create_prompt(self, question, df, max_token_count):\n",
    "        \"\"\"\n",
    "        Given a question and a dataframe containing rows of text and their\n",
    "        embeddings, return a text prompt to send to a Completion model\n",
    "        \"\"\"\n",
    "        # Create a tokenizer that is designed to align with our embeddings\n",
    "        tokenizer = tiktoken.get_encoding(\"cl100k_base\")\n",
    "    \n",
    "        # Count the number of tokens in the prompt template and question\n",
    "        prompt_template = \"\"\"\n",
    "        Answer the question based on the context below, and if the question\n",
    "        can't be answered based on the context, say \"I don't know\"\n",
    "        \n",
    "        Context:\n",
    "\n",
    "            {}\n",
    "        \n",
    "        ---\n",
    "\n",
    "        Question: {}\n",
    "        Answer:\"\"\"\n",
    "    \n",
    "        current_token_count = len(tokenizer.encode(prompt_template)) + \\\n",
    "                                len(tokenizer.encode(question))\n",
    "    \n",
    "        context = []\n",
    "        for text in self.get_rows_sorted_by_relevance(question, df)[\"text\"].values:\n",
    "        \n",
    "            # Increase the counter based on the number of tokens in this row\n",
    "            text_token_count = len(tokenizer.encode(text))\n",
    "            current_token_count += text_token_count\n",
    "        \n",
    "            # Add the row of text to the list if we haven't exceeded the max\n",
    "            if current_token_count <= max_token_count:\n",
    "                context.append(text)\n",
    "            else:\n",
    "                break\n",
    "\n",
    "        return prompt_template.format(\"\\n\\n###\\n\\n\".join(context), question)\n",
    "\n",
    "\n",
    "    def answer_question(self, question, df, max_prompt_tokens, max_answer_tokens):\n",
    "        \"\"\"\n",
    "        Given a question, a dataframe containing rows of text, and a maximum\n",
    "        number of desired tokens in the prompt and response, return the\n",
    "        answer to the question according to an OpenAI Completion model\n",
    "    \n",
    "        If the model produces an error, return an \"I do not know\"\n",
    "        \"\"\"\n",
    "\n",
    "        prompt = self.create_prompt(question, df, max_prompt_tokens)\n",
    "        try:\n",
    "            response = openai.Completion.create(\n",
    "                model=self.model_completion,\n",
    "                prompt=prompt,\n",
    "                max_tokens=self.max_answer_tokens\n",
    "            )\n",
    "            return response[\"choices\"][0][\"text\"].strip()\n",
    "        except Exception as e:\n",
    "            print(e)\n",
    "            return \"\"\n",
    "\n",
    "    def predict(self, question, history):\n",
    "    \treturn self.answer_question(question, self.__df, self.max_prompt_tokens, self.max_answer_tokens)"
   ]
  },
  {
   "cell_type": "code",
   "execution_count": 23,
   "id": "59d5095c",
   "metadata": {},
   "outputs": [],
   "source": [
    "\n",
    "bot = EmbeddingChatbot(\n",
    "    embeddings_path='embeddings_txt.csv',\n",
    "    model_embeddings = 'text-embedding-ada-002',\n",
    "    model_completion ='gpt-3.5-turbo-instruct',\n",
    "    max_prompt_tokens = 1800,\n",
    "    max_answer_tokens = 600\n",
    "    )\n"
   ]
  },
  {
   "cell_type": "code",
   "execution_count": 24,
   "id": "6e55d007",
   "metadata": {},
   "outputs": [
    {
     "name": "stdout",
     "output_type": "stream",
     "text": [
      "Running on local URL:  http://127.0.0.1:7861\n",
      "\n",
      "To create a public link, set `share=True` in `launch()`.\n"
     ]
    },
    {
     "data": {
      "text/html": [
       "<div><iframe src=\"http://127.0.0.1:7861/\" width=\"100%\" height=\"500\" allow=\"autoplay; camera; microphone; clipboard-read; clipboard-write;\" frameborder=\"0\" allowfullscreen></iframe></div>"
      ],
      "text/plain": [
       "<IPython.core.display.HTML object>"
      ]
     },
     "metadata": {},
     "output_type": "display_data"
    },
    {
     "data": {
      "text/plain": []
     },
     "execution_count": 24,
     "metadata": {},
     "output_type": "execute_result"
    }
   ],
   "source": [
    "gr.ChatInterface(bot.predict).launch()"
   ]
  }
 ],
 "metadata": {
  "kernelspec": {
   "display_name": "Python 3 (ipykernel)",
   "language": "python",
   "name": "python3"
  },
  "language_info": {
   "codemirror_mode": {
    "name": "ipython",
    "version": 3
   },
   "file_extension": ".py",
   "mimetype": "text/x-python",
   "name": "python",
   "nbconvert_exporter": "python",
   "pygments_lexer": "ipython3",
   "version": "3.11.5"
  }
 },
 "nbformat": 4,
 "nbformat_minor": 5
}
