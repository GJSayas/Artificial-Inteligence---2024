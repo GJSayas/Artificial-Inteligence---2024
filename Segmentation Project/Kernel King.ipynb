{
 "cells": [
  {
   "cell_type": "code",
   "execution_count": null,
   "id": "1122c9ee",
   "metadata": {},
   "outputs": [],
   "source": [
    "import numpy as np\n",
    "import matplotlib.pyplot as plt\n",
    "from PIL import Image\n",
    "from scipy import ndimage\n",
    "\n",
    "def formula(g, K=255):\n",
    "    g= g.astype(np.float64)\n",
    "    min_g = np.min(g)\n",
    "\n",
    "    g_m= g-min_g\n",
    "    max_g_m = np.max(g_m)\n",
    "\n",
    "    g_s= (K* g_m) / max_g_m\n",
    "\n",
    "return g_s"
   ]
  },
  {
   "cell_type": "code",
   "execution_count": null,
   "id": "5e10d9fe",
   "metadata": {},
   "outputs": [],
   "source": [
    "file_name='AML-KERNEL.zip'\n",
    "\n",
    "with ZipFile(file_name, 'r') as zip:  #Sacamos la imagen\n",
    "    zip.extractall(path='new_AML_kernel', members=None,)\n",
    "    zip.close()"
   ]
  },
  {
   "cell_type": "code",
   "execution_count": null,
   "id": "200b3fd1",
   "metadata": {},
   "outputs": [],
   "source": [
    "A = Image.open(\"new_AML_kernel\\IMG A.jpg\").convert(\"L\")\n",
    "A = np.asarray(A)\n",
    "\n",
    "A = A.astype(np.double)\n",
    "plt.figure()\n",
    "plt.imshow(A, cmap=\"gray\")\n",
    "plt.title(\"Imagen original\")\n",
    "plt.figure()\n",
    "plt.hist(A.flatten(), 256, (0, 255))\n",
    "plt.title(\"Histograma de la imagen original\")"
   ]
  },
  {
   "cell_type": "code",
   "execution_count": null,
   "id": "234c1573",
   "metadata": {},
   "outputs": [],
   "source": [
    "#Convolución\n",
    "\n",
    "kernel = np.array([\n",
    "[-1, -1, -1],\n",
    "[-1, -5, -1],\n",
    "[-1, -1, -1]\n",
    "])\n",
    "laplacian = ndimage.convolve(A, kernel)\n",
    "plt.figure()\n",
    "plt.imshow(laplacian, cmap=\"gray\")\n",
    "plt.title(\"Resultado de la convolución\")\n",
    "plt.figure()\n",
    "plt.hist(laplacian.flatten(), 256)\n",
    "plt.title(\"Histograma del resultado de la convolución\")"
   ]
  },
  {
   "cell_type": "code",
   "execution_count": null,
   "id": "fc8f0a30",
   "metadata": {},
   "outputs": [],
   "source": [
    "S = 2\n",
    "C = A - S * laplacian\n",
    "plt.figure()\n",
    "plt.imshow(C, cmap=\"gray\")\n",
    "plt.title(\"Imagen filtrada\")\n",
    "plt.figure()\n",
    "plt.hist(C.flatten(), 256)\n",
    "plt.title(\"Histograma de la imagen filtrada\")\n",
    "\n",
    "C = formula(C, 255)\n",
    "Image.fromarray(np.array(C, dtype=np.uint8)).save(\"IMAGEN_A.png\")"
   ]
  }
 ],
 "metadata": {
  "kernelspec": {
   "display_name": "Python 3 (ipykernel)",
   "language": "python",
   "name": "python3"
  },
  "language_info": {
   "codemirror_mode": {
    "name": "ipython",
    "version": 3
   },
   "file_extension": ".py",
   "mimetype": "text/x-python",
   "name": "python",
   "nbconvert_exporter": "python",
   "pygments_lexer": "ipython3",
   "version": "3.11.5"
  }
 },
 "nbformat": 4,
 "nbformat_minor": 5
}
