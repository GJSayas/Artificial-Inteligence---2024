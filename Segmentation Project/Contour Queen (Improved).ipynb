{
 "cells": [
  {
   "cell_type": "code",
   "execution_count": 1,
   "id": "baa45fa2",
   "metadata": {
    "colab": {
     "base_uri": "https://localhost:8080/"
    },
    "id": "baa45fa2",
    "outputId": "dd9aaa29-cfec-4daa-dd8b-ece31efbf299"
   },
   "outputs": [
    {
     "output_type": "stream",
     "name": "stdout",
     "text": [
      "Requirement already satisfied: opencv-python in /usr/local/lib/python3.10/dist-packages (4.10.0.84)\n",
      "Requirement already satisfied: numpy>=1.21.2 in /usr/local/lib/python3.10/dist-packages (from opencv-python) (1.26.4)\n"
     ]
    }
   ],
   "source": [
    "#!pip install opencv-python"
   ]
  },
  {
   "cell_type": "code",
   "execution_count": 2,
   "id": "658d0c16",
   "metadata": {
    "id": "658d0c16"
   },
   "outputs": [],
   "source": [
    "import numpy as np\n",
    "import os\n",
    "import cv2\n",
    "from scipy import ndimage\n",
    "\n",
    "from zipfile import ZipFile\n",
    "from scipy.fft import fft, fftshift, fft2, ifft2, ifftshift\n",
    "\n",
    "\n",
    "%matplotlib inline\n",
    "import matplotlib\n",
    "import matplotlib.pyplot as plt"
   ]
  },
  {
   "cell_type": "code",
   "execution_count": 75,
   "id": "9c5f1b85",
   "metadata": {
    "id": "9c5f1b85"
   },
   "outputs": [],
   "source": [
    "def dilatacion(img, k):\n",
    "    t, umbralizada = cv2.threshold(img, 0, 255, cv2.THRESH_BINARY + cv2.THRESH_OTSU)\n",
    "    kernel = np.ones((k, k), np.uint8)\n",
    "    dilatacion = cv2.dilate(img, kernel, iterations = 1)\n",
    "    plt.imshow(dilatacion, cmap=\"gray\")\n",
    "    return dilatacion\n"
   ]
  },
  {
   "cell_type": "code",
   "execution_count": 50,
   "id": "b799b63f",
   "metadata": {
    "id": "b799b63f"
   },
   "outputs": [],
   "source": [
    "file_name='Image.zip' #Llamamos el archivo ZIP donde están nuestras imágenes faltantes de máscara para entrenamiento.\n",
    "\n",
    "with ZipFile(file_name, 'r') as zip:  #Sacamos la imagen\n",
    "    zip.extractall(path='image', members=None,)\n",
    "    zip.close()"
   ]
  },
  {
   "cell_type": "code",
   "execution_count": 51,
   "id": "53cab37f",
   "metadata": {
    "id": "53cab37f"
   },
   "outputs": [],
   "source": [
    "img= 'image'\n",
    "jpeglist = os.listdir(img)"
   ]
  },
  {
   "cell_type": "code",
   "execution_count": 87,
   "id": "4dee385b",
   "metadata": {
    "id": "4dee385b"
   },
   "outputs": [],
   "source": [
    "output_images_path=\"contour\"\n",
    "if not os.path.exists(output_images_path):\n",
    "    os.makedirs(output_images_path)"
   ]
  },
  {
   "cell_type": "code",
   "execution_count": 91,
   "id": "79a04425",
   "metadata": {
    "colab": {
     "base_uri": "https://localhost:8080/",
     "height": 455
    },
    "id": "79a04425",
    "outputId": "649d24db-c1fa-4016-8fae-d61e476d349d"
   },
   "outputs": [
    {
     "output_type": "display_data",
     "data": {
      "text/plain": [
       "<Figure size 640x480 with 1 Axes>"
      ],
      "image/png": "[encoded data removed]"
     },
     "metadata": {}
    }
   ],
   "source": [
    "for file in jpeglist:\n",
    "\n",
    "    img_path= img + \"/\" + file\n",
    "    image= cv2.imread(img_path, 0)\n",
    "\n",
    "    if image is None:\n",
    "        continue\n",
    "\n",
    "    edged = cv2.Canny(image, 10, 100)\n",
    "    edged= dilatacion(edged, 3)\n",
    "\n",
    "    ### Para convertirlo a rojo: \n",
    "    # contours, _= cv2.findContours(edged, cv2.RETR_EXTERNAL, cv2.CHAIN_APPROX_SIMPLE)\n",
    "    # edged= cv2.cvtColor(edged, cv2.COLOR_GRAY2RGB) \n",
    "    # final= cv2.drawContours (edged, contours, -1, (0,0,255), -1)\n",
    "\n",
    "    cv2.imwrite(output_images_path + \"/\" + str(file) + \".jpg\", edged) # Cambiar \"edged\" por \"final\" de obtener una máscara roja.\n",
    "\n",
    "    cv2.waitKey(0)\n",
    "    cv2.destroyAllWindows()\n"
   ]
  },
  {
   "cell_type": "code",
   "execution_count": 89,
   "id": "88534f7a",
   "metadata": {
    "id": "88534f7a"
   },
   "outputs": [],
   "source": [
    "file_name='contour' # Nombre del directorio que se guardará en zip\n",
    "\n",
    "with ZipFile(file_name+'.zip', 'w') as zip: # Crear documento con extensión '.zip' y seleccionar que puede escribirse en él ('w')\n",
    "    for file in os.listdir(file_name): # Loop por cada documento en el directorio a comprimir.\n",
    "        zip.write(os.path.join(file_name, file)) # Escribir cada uno de los documentos en el Zip\n",
    "    zip.close() # Cerrar el documento de Zip-+."
   ]
  }
 ],
 "metadata": {
  "kernelspec": {
   "display_name": "Python 3 (ipykernel)",
   "language": "python",
   "name": "python3"
  },
  "language_info": {
   "codemirror_mode": {
    "name": "ipython",
    "version": 3
   },
   "file_extension": ".py",
   "mimetype": "text/x-python",
   "name": "python",
   "nbconvert_exporter": "python",
   "pygments_lexer": "ipython3",
   "version": "3.11.5"
  },
  "colab": {
   "provenance": []
  }
 },
 "nbformat": 4,
 "nbformat_minor": 5
}
