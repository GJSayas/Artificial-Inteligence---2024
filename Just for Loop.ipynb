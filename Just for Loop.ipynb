{
  "cells": [
    {
      "cell_type": "markdown",
      "metadata": {
        "id": "view-in-github",
        "colab_type": "text"
      },
      "source": [
        "<a href=\"https://colab.research.google.com/github/GJSayas/Artificial-Inteligence---2024/blob/main/Just%20for%20Loop.ipynb\" target=\"_parent\"><img src=\"https://colab.research.google.com/assets/colab-badge.svg\" alt=\"Open In Colab\"/></a>"
      ]
    },
    {
      "cell_type": "code",
      "execution_count": null,
      "id": "1122c9ee",
      "metadata": {
        "id": "1122c9ee"
      },
      "outputs": [],
      "source": [
        "import numpy as np\n",
        "import matplotlib.pyplot as plt\n",
        "from PIL import Image\n",
        "from scipy import ndimage\n",
        "from scipy.fft import fft, fftshift, fft2, ifft2, ifftshift\n",
        "import os\n",
        "import cv2\n",
        "\n",
        "from zipfile import ZipFile\n",
        "\n",
        "\n",
        "def formula(g, K=255):\n",
        "    g= g.astype(np.float64)\n",
        "    min_g = np.min(g)\n",
        "\n",
        "    g_m= g-min_g\n",
        "    max_g_m = np.max(g_m)\n",
        "\n",
        "    g_s= (K* g_m) / max_g_m\n",
        "\n",
        "    return g_s"
      ]
    },
    {
      "cell_type": "code",
      "execution_count": null,
      "id": "5e10d9fe",
      "metadata": {
        "id": "5e10d9fe"
      },
      "outputs": [],
      "source": [
        "file_name='100.zip' #Archivo zip con múltiples carpetas dentro, imagen de interés en: \"images/100/dataset/test\"\n",
        "\n",
        "with ZipFile(file_name, 'r') as zip:  #Sacamos la imagen\n",
        "    zip.extractall(path='images', members=None,)\n",
        "    zip.close()\n",
        "\n",
        "img = \"images/100/dataset/test/images\"\n",
        "jpeglist = os.listdir(img)\n",
        "\n",
        "output_images_path=\"Kernel_Out\" #Nombre del archivo/directorio que se creará para almacenar las imágenes post proceso.\n",
        "if not os.path.exists(output_images_path):\n",
        "    os.makedirs(output_images_path)\n"
      ]
    },
    {
      "cell_type": "code",
      "execution_count": null,
      "id": "200b3fd1",
      "metadata": {
        "id": "200b3fd1"
      },
      "outputs": [],
      "source": [
        "for file in jpeglist:\n",
        "\n",
        "    img_path= img + \"/\" + file\n",
        "    image= cv2.imread(img_path, 0)\n",
        "\n",
        "    if image is None:\n",
        "        continue\n",
        "\n",
        "\n",
        "    kernel = np.array([\n",
        "    [0, 0, 0],\n",
        "    [0, 1, 0],\n",
        "    [0, 0, 0]\n",
        "    ])\n",
        "    laplacian = ndimage.convolve(image, kernel)\n",
        "\n",
        "    S = 2\n",
        "    C = image - S * laplacian\n",
        "    C = formula(C, 255)\n",
        "\n",
        "    cv2.imwrite(output_images_path + \"/\" + str(file) , C)\n",
        "\n",
        "    cv2.waitKey(0)\n",
        "    cv2.destroyAllWindows()\n"
      ]
    },
    {
      "cell_type": "code",
      "source": [
        "file_name='Kernel_Out' # Nombre del directorio que se guardará en zip\n",
        "\n",
        "with ZipFile(file_name+'.zip', 'w') as zip: # Crear documento con extensión '.zip' y seleccionar que puede escribirse en él ('w')\n",
        "    for file in os.listdir(file_name): # Loop por cada documento en el directorio a comprimir.\n",
        "        zip.write(os.path.join(file_name, file)) # Escribir cada uno de los documentos en el Zip\n",
        "    zip.close() # Cerrar el documento de Zip."
      ],
      "metadata": {
        "id": "wSO69REwDn7y"
      },
      "id": "wSO69REwDn7y",
      "execution_count": null,
      "outputs": []
    }
  ],
  "metadata": {
    "kernelspec": {
      "display_name": "Python 3 (ipykernel)",
      "language": "python",
      "name": "python3"
    },
    "language_info": {
      "codemirror_mode": {
        "name": "ipython",
        "version": 3
      },
      "file_extension": ".py",
      "mimetype": "text/x-python",
      "name": "python",
      "nbconvert_exporter": "python",
      "pygments_lexer": "ipython3",
      "version": "3.11.5"
    },
    "colab": {
      "provenance": [],
      "include_colab_link": true
    }
  },
  "nbformat": 4,
  "nbformat_minor": 5
}